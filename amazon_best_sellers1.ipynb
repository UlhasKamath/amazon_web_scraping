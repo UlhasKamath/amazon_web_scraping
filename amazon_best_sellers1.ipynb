{
 "cells": [
  {
   "cell_type": "markdown",
   "id": "4730704f",
   "metadata": {},
   "source": [
    "## Amazon Best Sellers  - Bags, Wallets, and Luggage"
   ]
  },
  {
   "cell_type": "code",
   "execution_count": 65,
   "id": "87e82f15",
   "metadata": {},
   "outputs": [],
   "source": [
    "from bs4 import BeautifulSoup\n",
    "import pandas as pd\n",
    "import requests"
   ]
  },
  {
   "cell_type": "markdown",
   "id": "607a131f",
   "metadata": {},
   "source": [
    "#### downloading data from the page"
   ]
  },
  {
   "cell_type": "code",
   "execution_count": 66,
   "id": "b86111ca",
   "metadata": {},
   "outputs": [],
   "source": [
    "url = 'https://www.amazon.in/gp/bestsellers/luggage'\n",
    "headers = {\"User-Agent\": \"Mozilla/5.0 (Windows NT 10.0; Win64; x64) AppleWebKit/537.36 (KHTML, like Gecko) Chrome/105.0.0.0 Safari/537.36\"}\n",
    "\n",
    "page = requests.get(url, headers=headers)\n",
    "soup = BeautifulSoup(page.content, 'html.parser')"
   ]
  },
  {
   "cell_type": "markdown",
   "id": "76012476",
   "metadata": {},
   "source": [
    "#### extracting tags with required information"
   ]
  },
  {
   "cell_type": "code",
   "execution_count": 67,
   "id": "8b0b4e02",
   "metadata": {},
   "outputs": [
    {
     "data": {
      "text/plain": [
       "30"
      ]
     },
     "execution_count": 67,
     "metadata": {},
     "output_type": "execute_result"
    }
   ],
   "source": [
    "item_tags = soup.find_all('div', id='gridItemRoot')\n",
    "len(item_tags)"
   ]
  },
  {
   "cell_type": "code",
   "execution_count": 68,
   "id": "5a1a9fb9",
   "metadata": {},
   "outputs": [],
   "source": [
    "titles = []\n",
    "\n",
    "div_tags = soup.find_all('div', class_='_cDEzb_p13n-sc-css-line-clamp-3_g3dy1')\n",
    "\n",
    "for i in range(len(div_tags)):\n",
    "    title = div_tags[i].text\n",
    "    titles.append(title)\n"
   ]
  },
  {
   "cell_type": "code",
   "execution_count": 69,
   "id": "ea5ca797",
   "metadata": {},
   "outputs": [
    {
     "data": {
      "text/plain": [
       "30"
      ]
     },
     "execution_count": 69,
     "metadata": {},
     "output_type": "execute_result"
    }
   ],
   "source": [
    "len(titles)"
   ]
  },
  {
   "cell_type": "code",
   "execution_count": 70,
   "id": "fcc42dab",
   "metadata": {},
   "outputs": [],
   "source": [
    "stars = []\n",
    "\n",
    "span_tags = soup.find_all('span', class_='a-size-small')\n",
    "\n",
    "for i in range(len(span_tags)-4):\n",
    "    star_value = span_tags[i].text\n",
    "    stars.append(star_value)\n",
    "    "
   ]
  },
  {
   "cell_type": "code",
   "execution_count": 71,
   "id": "11dc23d0",
   "metadata": {},
   "outputs": [
    {
     "data": {
      "text/plain": [
       "30"
      ]
     },
     "execution_count": 71,
     "metadata": {},
     "output_type": "execute_result"
    }
   ],
   "source": [
    "len(stars)"
   ]
  },
  {
   "cell_type": "code",
   "execution_count": 75,
   "id": "420d4c0d",
   "metadata": {},
   "outputs": [],
   "source": [
    "price_ranges = []\n",
    "\n",
    "price_tags = soup.find_all('span', class_='a-size-base a-color-price')\n",
    "\n",
    "for i in range(len(price_tags)):\n",
    "    prices = price_tags[i].text.replace('\\xa0', '').replace('₹', '')\n",
    "    price_ranges.append(prices)\n",
    "    "
   ]
  },
  {
   "cell_type": "code",
   "execution_count": 76,
   "id": "c3fa4043",
   "metadata": {},
   "outputs": [],
   "source": [
    "positions = []\n",
    "\n",
    "pos_tags = soup.find_all('span', class_='zg-bdg-text')\n",
    "\n",
    "for i in range(len(pos_tags)):\n",
    "    position = pos_tags[i].text\n",
    "    positions.append(position)\n",
    "    "
   ]
  },
  {
   "cell_type": "markdown",
   "id": "d3a1af16",
   "metadata": {},
   "source": [
    "#### storing information in a dictionary before converting to a dataframe"
   ]
  },
  {
   "cell_type": "code",
   "execution_count": 77,
   "id": "93ea86f5",
   "metadata": {},
   "outputs": [],
   "source": [
    "bestseller_dict = {\n",
    "    'Name of Item': titles,\n",
    "    'Price Range (in Rupees)': price_ranges,\n",
    "    'Ranking': positions,\n",
    "    'Number of stars': stars\n",
    "}\n"
   ]
  },
  {
   "cell_type": "code",
   "execution_count": 78,
   "id": "b397fb25",
   "metadata": {},
   "outputs": [
    {
     "data": {
      "text/html": [
       "<div>\n",
       "<style scoped>\n",
       "    .dataframe tbody tr th:only-of-type {\n",
       "        vertical-align: middle;\n",
       "    }\n",
       "\n",
       "    .dataframe tbody tr th {\n",
       "        vertical-align: top;\n",
       "    }\n",
       "\n",
       "    .dataframe thead th {\n",
       "        text-align: right;\n",
       "    }\n",
       "</style>\n",
       "<table border=\"1\" class=\"dataframe\">\n",
       "  <thead>\n",
       "    <tr style=\"text-align: right;\">\n",
       "      <th></th>\n",
       "      <th>Name of Item</th>\n",
       "      <th>Price Range (in Rupees)</th>\n",
       "      <th>Ranking</th>\n",
       "      <th>Number of stars</th>\n",
       "    </tr>\n",
       "  </thead>\n",
       "  <tbody>\n",
       "    <tr>\n",
       "      <th>0</th>\n",
       "      <td>American Tourister 51 cms Black Casual Backpac...</td>\n",
       "      <td>899.00-2,698.00</td>\n",
       "      <td>#1</td>\n",
       "      <td>45,741</td>\n",
       "    </tr>\n",
       "    <tr>\n",
       "      <th>1</th>\n",
       "      <td>URBAN FOREST Black Leather Men's Card Holder W...</td>\n",
       "      <td>479.00-679.00</td>\n",
       "      <td>#2</td>\n",
       "      <td>35,432</td>\n",
       "    </tr>\n",
       "    <tr>\n",
       "      <th>2</th>\n",
       "      <td>Trajectory Supercomfy Black Neck Pillow Rest C...</td>\n",
       "      <td>299.00-619.00</td>\n",
       "      <td>#3</td>\n",
       "      <td>7,893</td>\n",
       "    </tr>\n",
       "    <tr>\n",
       "      <th>3</th>\n",
       "      <td>GLUN Bolt Electronic Portable Fishing Hook Typ...</td>\n",
       "      <td>269.00</td>\n",
       "      <td>#4</td>\n",
       "      <td>15,618</td>\n",
       "    </tr>\n",
       "    <tr>\n",
       "      <th>4</th>\n",
       "      <td>WildHorn Leather Men Wallet(black)</td>\n",
       "      <td>299.00-2,099.00</td>\n",
       "      <td>#5</td>\n",
       "      <td>23,042</td>\n",
       "    </tr>\n",
       "    <tr>\n",
       "      <th>5</th>\n",
       "      <td>Umbrella - UZQIC Umbrella for Men, Umberallas ...</td>\n",
       "      <td>599.00</td>\n",
       "      <td>#6</td>\n",
       "      <td>3,748</td>\n",
       "    </tr>\n",
       "    <tr>\n",
       "      <th>6</th>\n",
       "      <td>Martucci 15.6 inch 30 L Casual Waterproof Lapt...</td>\n",
       "      <td>568.00</td>\n",
       "      <td>#7</td>\n",
       "      <td>5,051</td>\n",
       "    </tr>\n",
       "    <tr>\n",
       "      <th>7</th>\n",
       "      <td>Urban Forest Oliver Black RFID Blocking Leathe...</td>\n",
       "      <td>479.00-679.00</td>\n",
       "      <td>#8</td>\n",
       "      <td>8,946</td>\n",
       "    </tr>\n",
       "    <tr>\n",
       "      <th>8</th>\n",
       "      <td>GoTrippin Metal Luggage Weighing Scale Digital...</td>\n",
       "      <td>899.00</td>\n",
       "      <td>#9</td>\n",
       "      <td>7,368</td>\n",
       "    </tr>\n",
       "    <tr>\n",
       "      <th>9</th>\n",
       "      <td>Amazon Brand - Solimo Rain &amp; Dust Cover for Ba...</td>\n",
       "      <td>219.00</td>\n",
       "      <td>#10</td>\n",
       "      <td>6,872</td>\n",
       "    </tr>\n",
       "    <tr>\n",
       "      <th>10</th>\n",
       "      <td>ATOM A 302 Electronic Digital Hanging Stainles...</td>\n",
       "      <td>299.00</td>\n",
       "      <td>#11</td>\n",
       "      <td>1,738</td>\n",
       "    </tr>\n",
       "    <tr>\n",
       "      <th>11</th>\n",
       "      <td>WildHorn® RFID Protected Genuine Leather Walle...</td>\n",
       "      <td>299.00-999.00</td>\n",
       "      <td>#12</td>\n",
       "      <td>28,348</td>\n",
       "    </tr>\n",
       "    <tr>\n",
       "      <th>12</th>\n",
       "      <td>SAFARI 15 Ltrs Denim Blue Casual/School/Colleg...</td>\n",
       "      <td>299.00</td>\n",
       "      <td>#13</td>\n",
       "      <td>10,045</td>\n",
       "    </tr>\n",
       "    <tr>\n",
       "      <th>13</th>\n",
       "      <td>Trajectory Supercomfy Black Neck Pillow Rest C...</td>\n",
       "      <td>349.00-698.00</td>\n",
       "      <td>#14</td>\n",
       "      <td>5,711</td>\n",
       "    </tr>\n",
       "    <tr>\n",
       "      <th>14</th>\n",
       "      <td>NAPA HIDE Black Leather Wallet for Men</td>\n",
       "      <td>299.00-525.00</td>\n",
       "      <td>#15</td>\n",
       "      <td>27,635</td>\n",
       "    </tr>\n",
       "    <tr>\n",
       "      <th>15</th>\n",
       "      <td>American Tourister Casual Backpack</td>\n",
       "      <td>1,099.00-1,273.00</td>\n",
       "      <td>#16</td>\n",
       "      <td>11,893</td>\n",
       "    </tr>\n",
       "    <tr>\n",
       "      <th>16</th>\n",
       "      <td>DZert Kids School Bag Soft Plush Backpacks Car...</td>\n",
       "      <td>239.00-299.00</td>\n",
       "      <td>#17</td>\n",
       "      <td>11,217</td>\n",
       "    </tr>\n",
       "    <tr>\n",
       "      <th>17</th>\n",
       "      <td>Kuber Industries 6 Piece Non Woven Travel Shoe...</td>\n",
       "      <td>249.00-754.92</td>\n",
       "      <td>#18</td>\n",
       "      <td>2,210</td>\n",
       "    </tr>\n",
       "    <tr>\n",
       "      <th>18</th>\n",
       "      <td>POLESTAR Xplore 55 L Hiking/ Trekking/ Camping...</td>\n",
       "      <td>899.00</td>\n",
       "      <td>#19</td>\n",
       "      <td>10,807</td>\n",
       "    </tr>\n",
       "    <tr>\n",
       "      <th>19</th>\n",
       "      <td>House Of Quirk 6Pcs/1Set Travel Storage Bag St...</td>\n",
       "      <td>489.00-520.00</td>\n",
       "      <td>#20</td>\n",
       "      <td>135</td>\n",
       "    </tr>\n",
       "    <tr>\n",
       "      <th>20</th>\n",
       "      <td>Safari Flash Casual Backpack, 26 ltr Water Res...</td>\n",
       "      <td>699.00</td>\n",
       "      <td>#21</td>\n",
       "      <td>770</td>\n",
       "    </tr>\n",
       "    <tr>\n",
       "      <th>21</th>\n",
       "      <td>DEIN KLEIDER Men's Nylon Messenger Bag</td>\n",
       "      <td>305.00</td>\n",
       "      <td>#22</td>\n",
       "      <td>3,393</td>\n",
       "    </tr>\n",
       "    <tr>\n",
       "      <th>22</th>\n",
       "      <td>Rigohill Martin Beige Mens Leather Wallet | Le...</td>\n",
       "      <td>349.00-499.00</td>\n",
       "      <td>#23</td>\n",
       "      <td>2,169</td>\n",
       "    </tr>\n",
       "    <tr>\n",
       "      <th>23</th>\n",
       "      <td>Dein Kleider Waist Pack Travel Handy Hiking Zi...</td>\n",
       "      <td>328.06</td>\n",
       "      <td>#24</td>\n",
       "      <td>3,318</td>\n",
       "    </tr>\n",
       "    <tr>\n",
       "      <th>24</th>\n",
       "      <td>Kore K-ACE-3.0 Gym Bag with Carry Handels (Red...</td>\n",
       "      <td>189.00-523.00</td>\n",
       "      <td>#25</td>\n",
       "      <td>2,216</td>\n",
       "    </tr>\n",
       "    <tr>\n",
       "      <th>25</th>\n",
       "      <td>Hornbull Denial Aqua Leather Wallet for Men | ...</td>\n",
       "      <td>299.00-899.00</td>\n",
       "      <td>#26</td>\n",
       "      <td>8,499</td>\n",
       "    </tr>\n",
       "    <tr>\n",
       "      <th>26</th>\n",
       "      <td>ZIPLINE Unisex Casual Polyester 36 L Backpack ...</td>\n",
       "      <td>798.00-899.00</td>\n",
       "      <td>#27</td>\n",
       "      <td>3,530</td>\n",
       "    </tr>\n",
       "    <tr>\n",
       "      <th>27</th>\n",
       "      <td>Umbrella - RYLAN Umbrella for Men, Umberallas ...</td>\n",
       "      <td>589.00</td>\n",
       "      <td>#28</td>\n",
       "      <td>83</td>\n",
       "    </tr>\n",
       "    <tr>\n",
       "      <th>28</th>\n",
       "      <td>Bulfyss Electronic 50Kgs Digital Luggage Weigh...</td>\n",
       "      <td>499.00</td>\n",
       "      <td>#29</td>\n",
       "      <td>6,280</td>\n",
       "    </tr>\n",
       "    <tr>\n",
       "      <th>29</th>\n",
       "      <td>Safari Pentagon Polypropylene 55 cms Cyan Hard...</td>\n",
       "      <td>2,199.00</td>\n",
       "      <td>#30</td>\n",
       "      <td>132</td>\n",
       "    </tr>\n",
       "  </tbody>\n",
       "</table>\n",
       "</div>"
      ],
      "text/plain": [
       "                                         Name of Item Price Range (in Rupees)  \\\n",
       "0   American Tourister 51 cms Black Casual Backpac...         899.00-2,698.00   \n",
       "1   URBAN FOREST Black Leather Men's Card Holder W...           479.00-679.00   \n",
       "2   Trajectory Supercomfy Black Neck Pillow Rest C...           299.00-619.00   \n",
       "3   GLUN Bolt Electronic Portable Fishing Hook Typ...                  269.00   \n",
       "4                  WildHorn Leather Men Wallet(black)         299.00-2,099.00   \n",
       "5   Umbrella - UZQIC Umbrella for Men, Umberallas ...                  599.00   \n",
       "6   Martucci 15.6 inch 30 L Casual Waterproof Lapt...                  568.00   \n",
       "7   Urban Forest Oliver Black RFID Blocking Leathe...           479.00-679.00   \n",
       "8   GoTrippin Metal Luggage Weighing Scale Digital...                  899.00   \n",
       "9   Amazon Brand - Solimo Rain & Dust Cover for Ba...                  219.00   \n",
       "10  ATOM A 302 Electronic Digital Hanging Stainles...                  299.00   \n",
       "11  WildHorn® RFID Protected Genuine Leather Walle...           299.00-999.00   \n",
       "12  SAFARI 15 Ltrs Denim Blue Casual/School/Colleg...                  299.00   \n",
       "13  Trajectory Supercomfy Black Neck Pillow Rest C...           349.00-698.00   \n",
       "14             NAPA HIDE Black Leather Wallet for Men           299.00-525.00   \n",
       "15                 American Tourister Casual Backpack       1,099.00-1,273.00   \n",
       "16  DZert Kids School Bag Soft Plush Backpacks Car...           239.00-299.00   \n",
       "17  Kuber Industries 6 Piece Non Woven Travel Shoe...           249.00-754.92   \n",
       "18  POLESTAR Xplore 55 L Hiking/ Trekking/ Camping...                  899.00   \n",
       "19  House Of Quirk 6Pcs/1Set Travel Storage Bag St...           489.00-520.00   \n",
       "20  Safari Flash Casual Backpack, 26 ltr Water Res...                  699.00   \n",
       "21             DEIN KLEIDER Men's Nylon Messenger Bag                  305.00   \n",
       "22  Rigohill Martin Beige Mens Leather Wallet | Le...           349.00-499.00   \n",
       "23  Dein Kleider Waist Pack Travel Handy Hiking Zi...                  328.06   \n",
       "24  Kore K-ACE-3.0 Gym Bag with Carry Handels (Red...           189.00-523.00   \n",
       "25  Hornbull Denial Aqua Leather Wallet for Men | ...           299.00-899.00   \n",
       "26  ZIPLINE Unisex Casual Polyester 36 L Backpack ...           798.00-899.00   \n",
       "27  Umbrella - RYLAN Umbrella for Men, Umberallas ...                  589.00   \n",
       "28  Bulfyss Electronic 50Kgs Digital Luggage Weigh...                  499.00   \n",
       "29  Safari Pentagon Polypropylene 55 cms Cyan Hard...                2,199.00   \n",
       "\n",
       "   Ranking Number of stars  \n",
       "0       #1          45,741  \n",
       "1       #2          35,432  \n",
       "2       #3           7,893  \n",
       "3       #4          15,618  \n",
       "4       #5          23,042  \n",
       "5       #6           3,748  \n",
       "6       #7           5,051  \n",
       "7       #8           8,946  \n",
       "8       #9           7,368  \n",
       "9      #10           6,872  \n",
       "10     #11           1,738  \n",
       "11     #12          28,348  \n",
       "12     #13          10,045  \n",
       "13     #14           5,711  \n",
       "14     #15          27,635  \n",
       "15     #16          11,893  \n",
       "16     #17          11,217  \n",
       "17     #18           2,210  \n",
       "18     #19          10,807  \n",
       "19     #20             135  \n",
       "20     #21             770  \n",
       "21     #22           3,393  \n",
       "22     #23           2,169  \n",
       "23     #24           3,318  \n",
       "24     #25           2,216  \n",
       "25     #26           8,499  \n",
       "26     #27           3,530  \n",
       "27     #28              83  \n",
       "28     #29           6,280  \n",
       "29     #30             132  "
      ]
     },
     "execution_count": 78,
     "metadata": {},
     "output_type": "execute_result"
    }
   ],
   "source": [
    "df = pd.DataFrame(bestseller_dict)\n",
    "df"
   ]
  },
  {
   "cell_type": "markdown",
   "id": "07cdbfbe",
   "metadata": {},
   "source": [
    "#### adding the data to a csv file"
   ]
  },
  {
   "cell_type": "code",
   "execution_count": 80,
   "id": "67d8d55a",
   "metadata": {},
   "outputs": [],
   "source": [
    "df.to_csv('Top 30 Bestsellers in Bags and Luggage.csv', index=None)"
   ]
  }
 ],
 "metadata": {
  "kernelspec": {
   "display_name": "Python 3 (ipykernel)",
   "language": "python",
   "name": "python3"
  },
  "language_info": {
   "codemirror_mode": {
    "name": "ipython",
    "version": 3
   },
   "file_extension": ".py",
   "mimetype": "text/x-python",
   "name": "python",
   "nbconvert_exporter": "python",
   "pygments_lexer": "ipython3",
   "version": "3.10.4"
  }
 },
 "nbformat": 4,
 "nbformat_minor": 5
}
